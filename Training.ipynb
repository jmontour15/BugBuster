{
 "cells": [
  {
   "cell_type": "code",
   "execution_count": 1,
   "id": "67bca379-843e-4c07-8031-c2f9b9c2307b",
   "metadata": {},
   "outputs": [],
   "source": [
    "import esm\n",
    "import torch\n",
    "import seaborn as sns\n",
    "import matplotlib.pyplot as plt\n",
    "import numpy as np\n",
    "import pandas as pd\n",
    "from tqdm import tqdm\n",
    "from torch.utils.data import DataLoader\n",
    "from torch import nn"
   ]
  },
  {
   "cell_type": "markdown",
   "id": "750c0dd3-c2d7-43bf-8604-b7405bac321f",
   "metadata": {},
   "source": [
    "### Training\n",
    "This notebook contains the training processes for BugBuster using three different levels of weight freezing on ESM:\n",
    "1. [Completely Frozen](#training-with-frozen-esm-layers)\n",
    "2. [Completely Trainable](#training-with-unfrozen-esm-layers)\n",
    "3. [Low-Rank Adaptation (LoRA)](#training-with-lora)"
   ]
  },
  {
   "cell_type": "markdown",
   "id": "15ffceff-cb02-4917-b10d-ed79bb6d43a8",
   "metadata": {},
   "source": [
    "### Training with frozen ESM layers"
   ]
  },
  {
   "cell_type": "code",
   "execution_count": 2,
   "id": "a1915f6c-0cb1-4f4d-8cb1-c83a9160f9bf",
   "metadata": {},
   "outputs": [],
   "source": [
    "device = torch.device(\"cuda\" if torch.cuda.is_available() else \"cpu\")"
   ]
  },
  {
   "cell_type": "code",
   "execution_count": 3,
   "id": "9d5788ad-5eb6-498e-a313-b9988776585a",
   "metadata": {},
   "outputs": [
    {
     "name": "stderr",
     "output_type": "stream",
     "text": [
      "/home/jmontour15/miniconda3/envs/faesm/lib/python3.10/site-packages/tqdm/auto.py:21: TqdmWarning: IProgress not found. Please update jupyter and ipywidgets. See https://ipywidgets.readthedocs.io/en/stable/user_install.html\n",
      "  from .autonotebook import tqdm as notebook_tqdm\n"
     ]
    },
    {
     "data": {
      "text/plain": [
       "BugBuster(\n",
       "  (ProteinMLM): ESM2(\n",
       "    (embed_tokens): Embedding(33, 320, padding_idx=1)\n",
       "    (layers): ModuleList(\n",
       "      (0-5): 6 x TransformerLayer(\n",
       "        (self_attn): MultiheadAttention(\n",
       "          (k_proj): Linear(in_features=320, out_features=320, bias=True)\n",
       "          (v_proj): Linear(in_features=320, out_features=320, bias=True)\n",
       "          (q_proj): Linear(in_features=320, out_features=320, bias=True)\n",
       "          (out_proj): Linear(in_features=320, out_features=320, bias=True)\n",
       "          (rot_emb): RotaryEmbedding()\n",
       "        )\n",
       "        (self_attn_layer_norm): LayerNorm((320,), eps=1e-05, elementwise_affine=True)\n",
       "        (fc1): Linear(in_features=320, out_features=1280, bias=True)\n",
       "        (fc2): Linear(in_features=1280, out_features=320, bias=True)\n",
       "        (final_layer_norm): LayerNorm((320,), eps=1e-05, elementwise_affine=True)\n",
       "      )\n",
       "    )\n",
       "    (contact_head): ContactPredictionHead(\n",
       "      (regression): Linear(in_features=120, out_features=1, bias=True)\n",
       "      (activation): Sigmoid()\n",
       "    )\n",
       "    (emb_layer_norm_after): LayerNorm((320,), eps=1e-05, elementwise_affine=True)\n",
       "    (lm_head): RobertaLMHead(\n",
       "      (dense): Linear(in_features=320, out_features=320, bias=True)\n",
       "      (layer_norm): LayerNorm((320,), eps=1e-05, elementwise_affine=True)\n",
       "    )\n",
       "  )\n",
       "  (TaskSpecificHead): ClassificationHead(\n",
       "    (attn_layers): ModuleList(\n",
       "      (0-1): 2 x MultiheadAttention(\n",
       "        (out_proj): NonDynamicallyQuantizableLinear(in_features=320, out_features=320, bias=True)\n",
       "      )\n",
       "    )\n",
       "    (dropout): Dropout(p=0.2, inplace=False)\n",
       "    (layer_norm): LayerNorm((320,), eps=1e-05, elementwise_affine=True)\n",
       "    (fc): Linear(in_features=320, out_features=1, bias=True)\n",
       "    (sigmoid): Sigmoid()\n",
       "  )\n",
       ")"
      ]
     },
     "execution_count": 3,
     "metadata": {},
     "output_type": "execute_result"
    }
   ],
   "source": [
    "from BugBuster import BugBuster\n",
    "\n",
    "model = BugBuster(num_mlm_layers=6, num_classes=1, num_heads=8, num_layers=2, dropout=0.2, freeze_mlm = True)\n",
    "model.to(device)"
   ]
  },
  {
   "cell_type": "code",
   "execution_count": 4,
   "id": "c8e5c187-016a-4475-ba9e-9cb827b46aca",
   "metadata": {},
   "outputs": [],
   "source": [
    "train_data = pd.read_csv(\"Data/train_data.csv\")\n",
    "val_data = pd.read_csv(\"Data/val_data.csv\")\n",
    "test_data = pd.read_csv(\"Data/test_data.csv\")"
   ]
  },
  {
   "cell_type": "code",
   "execution_count": 5,
   "id": "ca990eda-a24e-4bd7-83c0-93405a915623",
   "metadata": {},
   "outputs": [],
   "source": [
    "from ARGDataset import ARGDataset\n",
    "\n",
    "train_dataset = ARGDataset(train_data[\"sequence\"], train_data[\"label\"])\n",
    "val_dataset = ARGDataset(val_data[\"sequence\"], val_data[\"label\"])\n",
    "test_dataset = ARGDataset(test_data[\"sequence\"], test_data[\"label\"])"
   ]
  },
  {
   "cell_type": "code",
   "execution_count": 6,
   "id": "418a5132-7378-4c54-b713-e2c67a306688",
   "metadata": {},
   "outputs": [],
   "source": [
    "# Access model's batch_converter\n",
    "batch_converter = model.batch_converter\n",
    "\n",
    "def collate_fn(batch):\n",
    "    \"\"\"\n",
    "    Custom collate function that tokenizes sequences using ESM's batch_converter \n",
    "    and generates an attention mask.\n",
    "    \"\"\"\n",
    "    sequences, labels = zip(*batch)  # Unpack sequences and labels\n",
    "    \n",
    "    # Convert batch to tokenized tensors with padding\n",
    "    batch_labels, batch_strs, batch_tokens = batch_converter(list(zip(range(len(sequences)), sequences)))\n",
    "\n",
    "    # Create attention mask: 1 for valid tokens, 0 for padding\n",
    "    attention_mask = (batch_tokens != 1).long()\n",
    "\n",
    "    return batch_tokens, attention_mask, torch.tensor(labels, dtype=torch.long)"
   ]
  },
  {
   "cell_type": "code",
   "execution_count": 7,
   "id": "f6b57aa4-40da-419c-8753-a68af435154f",
   "metadata": {},
   "outputs": [],
   "source": [
    "train_loader = DataLoader(train_dataset, batch_size=4, shuffle=True, collate_fn = collate_fn)\n",
    "val_loader = DataLoader(val_dataset, batch_size=4, shuffle=False, collate_fn = collate_fn)\n",
    "test_loader = DataLoader(test_dataset, batch_size=4, shuffle=False, collate_fn = collate_fn)"
   ]
  },
  {
   "cell_type": "code",
   "execution_count": 8,
   "id": "15a5c87a-76cd-4cd8-8ddf-f92be9cd402c",
   "metadata": {},
   "outputs": [],
   "source": [
    "def train_model(model, train_loader, val_loader, epochs, patience, device):\n",
    "    # Send model to GPU\n",
    "    model.to(device)\n",
    "\n",
    "    # Initialize loss function and optimizer\n",
    "    loss_fn = nn.BCEWithLogitsLoss()\n",
    "    optimizer = torch.optim.Adam(model.parameters(), lr=1e-5, weight_decay=1e-4)\n",
    "\n",
    "    # Early stopping functionality\n",
    "    best_val_loss = float('inf')\n",
    "    early_stop_counter = 0\n",
    "\n",
    "    # Initialize loss storage for analysis\n",
    "    train_loss_vals = []\n",
    "    val_loss_vals = []\n",
    "\n",
    "    for epoch in range(epochs):\n",
    "        # Call train_step for training\n",
    "        train_loss = model.train_step(train_loader, loss_fn, optimizer, device)\n",
    "        # Call test_step for validation\n",
    "        current_val_loss = model.test_step(val_loader, loss_fn, device)\n",
    "        print(f\"Epoch {epoch+1} | Train Loss: {train_loss:.4f} | Validation Loss: {current_val_loss:.4f}\")\n",
    "        train_loss_vals.append(train_loss)\n",
    "        val_loss_vals.append(current_val_loss)\n",
    "\n",
    "        # Early stopping logic\n",
    "        if current_val_loss < best_val_loss:\n",
    "            best_val_loss = current_val_loss\n",
    "            early_stop_counter = 0\n",
    "        else:\n",
    "            early_stop_counter += 1\n",
    "        if early_stop_counter >= patience:\n",
    "            print(f\"Early stopping triggered. No improvement in validation loss for {patience} epochs.\")\n",
    "            return train_loss_vals, val_loss_vals\n",
    "    return train_loss_vals, val_loss_vals"
   ]
  },
  {
   "cell_type": "code",
   "execution_count": 12,
   "id": "34a73619-6af4-46fb-8aa6-e3d6bea7a41f",
   "metadata": {},
   "outputs": [
    {
     "name": "stderr",
     "output_type": "stream",
     "text": [
      "\n",
      "\n",
      "alidating: 100%|█████████████████████████████████████████████████████████████████████| 216/216 [00:26<00:00,  8.25it/s]"
     ]
    },
    {
     "name": "stdout",
     "output_type": "stream",
     "text": [
      "Epoch 1 | Train Loss: 0.4014 | Validation Loss: 0.3054\n"
     ]
    },
    {
     "name": "stderr",
     "output_type": "stream",
     "text": [
      "\n",
      "\n",
      "alidating: 100%|█████████████████████████████████████████████████████████████████████| 216/216 [00:26<00:00,  8.16it/s]"
     ]
    },
    {
     "name": "stdout",
     "output_type": "stream",
     "text": [
      "Epoch 2 | Train Loss: 0.2924 | Validation Loss: 0.2760\n"
     ]
    },
    {
     "name": "stderr",
     "output_type": "stream",
     "text": [
      "\n",
      "\n",
      "alidating: 100%|█████████████████████████████████████████████████████████████████████| 216/216 [00:26<00:00,  8.16it/s]"
     ]
    },
    {
     "name": "stdout",
     "output_type": "stream",
     "text": [
      "Epoch 3 | Train Loss: 0.2657 | Validation Loss: 0.2646\n"
     ]
    },
    {
     "name": "stderr",
     "output_type": "stream",
     "text": [
      "\n",
      "\n",
      "alidating: 100%|█████████████████████████████████████████████████████████████████████| 216/216 [00:26<00:00,  8.24it/s]"
     ]
    },
    {
     "name": "stdout",
     "output_type": "stream",
     "text": [
      "Epoch 4 | Train Loss: 0.2491 | Validation Loss: 0.2539\n"
     ]
    },
    {
     "name": "stderr",
     "output_type": "stream",
     "text": [
      "\n",
      "\n",
      "alidating: 100%|█████████████████████████████████████████████████████████████████████| 216/216 [00:32<00:00,  6.74it/s]"
     ]
    },
    {
     "name": "stdout",
     "output_type": "stream",
     "text": [
      "Epoch 5 | Train Loss: 0.2351 | Validation Loss: 0.2460\n"
     ]
    },
    {
     "name": "stderr",
     "output_type": "stream",
     "text": [
      "\n",
      "\n",
      "alidating: 100%|█████████████████████████████████████████████████████████████████████| 216/216 [00:26<00:00,  8.15it/s]"
     ]
    },
    {
     "name": "stdout",
     "output_type": "stream",
     "text": [
      "Epoch 6 | Train Loss: 0.2251 | Validation Loss: 0.2407\n"
     ]
    },
    {
     "name": "stderr",
     "output_type": "stream",
     "text": [
      "\n",
      "\n",
      "alidating: 100%|█████████████████████████████████████████████████████████████████████| 216/216 [00:26<00:00,  8.13it/s]"
     ]
    },
    {
     "name": "stdout",
     "output_type": "stream",
     "text": [
      "Epoch 7 | Train Loss: 0.2156 | Validation Loss: 0.2360\n"
     ]
    },
    {
     "name": "stderr",
     "output_type": "stream",
     "text": [
      "\n",
      "\n",
      "alidating: 100%|█████████████████████████████████████████████████████████████████████| 216/216 [00:26<00:00,  8.21it/s]"
     ]
    },
    {
     "name": "stdout",
     "output_type": "stream",
     "text": [
      "Epoch 8 | Train Loss: 0.2072 | Validation Loss: 0.2308\n"
     ]
    },
    {
     "name": "stderr",
     "output_type": "stream",
     "text": [
      "\n",
      "\n",
      "alidating: 100%|█████████████████████████████████████████████████████████████████████| 216/216 [00:26<00:00,  8.27it/s]"
     ]
    },
    {
     "name": "stdout",
     "output_type": "stream",
     "text": [
      "Epoch 9 | Train Loss: 0.1986 | Validation Loss: 0.2240\n"
     ]
    },
    {
     "name": "stderr",
     "output_type": "stream",
     "text": [
      "\n",
      "\n",
      "alidating: 100%|█████████████████████████████████████████████████████████████████████| 216/216 [00:26<00:00,  8.08it/s]"
     ]
    },
    {
     "name": "stdout",
     "output_type": "stream",
     "text": [
      "Epoch 10 | Train Loss: 0.1932 | Validation Loss: 0.2249\n"
     ]
    },
    {
     "name": "stderr",
     "output_type": "stream",
     "text": [
      "\n",
      "\n",
      "alidating: 100%|█████████████████████████████████████████████████████████████████████| 216/216 [00:27<00:00,  7.97it/s]"
     ]
    },
    {
     "name": "stdout",
     "output_type": "stream",
     "text": [
      "Epoch 11 | Train Loss: 0.1864 | Validation Loss: 0.2206\n"
     ]
    },
    {
     "name": "stderr",
     "output_type": "stream",
     "text": [
      "\n",
      "\n",
      "alidating: 100%|█████████████████████████████████████████████████████████████████████| 216/216 [00:28<00:00,  7.64it/s]"
     ]
    },
    {
     "name": "stdout",
     "output_type": "stream",
     "text": [
      "Epoch 12 | Train Loss: 0.1822 | Validation Loss: 0.2181\n"
     ]
    },
    {
     "name": "stderr",
     "output_type": "stream",
     "text": [
      "\n",
      "\n",
      "alidating: 100%|█████████████████████████████████████████████████████████████████████| 216/216 [00:30<00:00,  6.98it/s]"
     ]
    },
    {
     "name": "stdout",
     "output_type": "stream",
     "text": [
      "Epoch 13 | Train Loss: 0.1758 | Validation Loss: 0.2294\n"
     ]
    },
    {
     "name": "stderr",
     "output_type": "stream",
     "text": [
      "\n",
      "\n",
      "alidating: 100%|█████████████████████████████████████████████████████████████████████| 216/216 [00:29<00:00,  7.29it/s]"
     ]
    },
    {
     "name": "stdout",
     "output_type": "stream",
     "text": [
      "Epoch 14 | Train Loss: 0.1713 | Validation Loss: 0.2178\n"
     ]
    },
    {
     "name": "stderr",
     "output_type": "stream",
     "text": [
      "\n",
      "\n",
      "alidating: 100%|█████████████████████████████████████████████████████████████████████| 216/216 [00:31<00:00,  6.75it/s]"
     ]
    },
    {
     "name": "stdout",
     "output_type": "stream",
     "text": [
      "Epoch 15 | Train Loss: 0.1677 | Validation Loss: 0.2146\n"
     ]
    },
    {
     "name": "stderr",
     "output_type": "stream",
     "text": [
      "\n",
      "\n",
      "alidating: 100%|█████████████████████████████████████████████████████████████████████| 216/216 [00:29<00:00,  7.38it/s]"
     ]
    },
    {
     "name": "stdout",
     "output_type": "stream",
     "text": [
      "Epoch 16 | Train Loss: 0.1627 | Validation Loss: 0.2128\n"
     ]
    },
    {
     "name": "stderr",
     "output_type": "stream",
     "text": [
      "\n",
      "\n",
      "alidating: 100%|█████████████████████████████████████████████████████████████████████| 216/216 [00:30<00:00,  7.11it/s]"
     ]
    },
    {
     "name": "stdout",
     "output_type": "stream",
     "text": [
      "Epoch 17 | Train Loss: 0.1578 | Validation Loss: 0.2120\n"
     ]
    },
    {
     "name": "stderr",
     "output_type": "stream",
     "text": [
      "\n",
      "\n",
      "alidating: 100%|█████████████████████████████████████████████████████████████████████| 216/216 [00:26<00:00,  8.18it/s]"
     ]
    },
    {
     "name": "stdout",
     "output_type": "stream",
     "text": [
      "Epoch 18 | Train Loss: 0.1555 | Validation Loss: 0.2167\n"
     ]
    },
    {
     "name": "stderr",
     "output_type": "stream",
     "text": [
      "\n",
      "\n",
      "alidating: 100%|█████████████████████████████████████████████████████████████████████| 216/216 [00:26<00:00,  8.17it/s]"
     ]
    },
    {
     "name": "stdout",
     "output_type": "stream",
     "text": [
      "Epoch 19 | Train Loss: 0.1505 | Validation Loss: 0.2132\n"
     ]
    },
    {
     "name": "stderr",
     "output_type": "stream",
     "text": [
      "\n",
      "\n",
      "alidating: 100%|█████████████████████████████████████████████████████████████████████| 216/216 [00:26<00:00,  8.16it/s]"
     ]
    },
    {
     "name": "stdout",
     "output_type": "stream",
     "text": [
      "Epoch 20 | Train Loss: 0.1476 | Validation Loss: 0.2098\n"
     ]
    },
    {
     "name": "stderr",
     "output_type": "stream",
     "text": [
      "\n",
      "\n",
      "alidating: 100%|█████████████████████████████████████████████████████████████████████| 216/216 [00:43<00:00,  4.93it/s]"
     ]
    },
    {
     "name": "stdout",
     "output_type": "stream",
     "text": [
      "Epoch 21 | Train Loss: 0.1427 | Validation Loss: 0.2089\n"
     ]
    },
    {
     "name": "stderr",
     "output_type": "stream",
     "text": [
      "\n",
      "\n",
      "alidating: 100%|█████████████████████████████████████████████████████████████████████| 216/216 [00:27<00:00,  7.90it/s]"
     ]
    },
    {
     "name": "stdout",
     "output_type": "stream",
     "text": [
      "Epoch 22 | Train Loss: 0.1384 | Validation Loss: 0.2101\n"
     ]
    },
    {
     "name": "stderr",
     "output_type": "stream",
     "text": [
      "\n",
      "\n",
      "alidating: 100%|█████████████████████████████████████████████████████████████████████| 216/216 [00:26<00:00,  8.12it/s]"
     ]
    },
    {
     "name": "stdout",
     "output_type": "stream",
     "text": [
      "Epoch 23 | Train Loss: 0.1354 | Validation Loss: 0.2113\n"
     ]
    },
    {
     "name": "stderr",
     "output_type": "stream",
     "text": [
      "\n",
      "\n",
      "alidating: 100%|█████████████████████████████████████████████████████████████████████| 216/216 [00:26<00:00,  8.14it/s]"
     ]
    },
    {
     "name": "stdout",
     "output_type": "stream",
     "text": [
      "Epoch 24 | Train Loss: 0.1315 | Validation Loss: 0.2209\n",
      "Early stopping triggered. No improvement in validation loss for 3 epochs.\n"
     ]
    }
   ],
   "source": [
    "train_loss_values, validation_loss_values = train_model(model, train_loader, val_loader, epochs=30, patience=3, device=device)"
   ]
  },
  {
   "cell_type": "code",
   "execution_count": 15,
   "id": "ca10499f-bfdd-405d-9831-fd99c4ba35f1",
   "metadata": {},
   "outputs": [
    {
     "data": {
      "image/png": "[encoded data removed]",
      "text/plain": [
       "<Figure size 640x480 with 1 Axes>"
      ]
     },
     "metadata": {},
     "output_type": "display_data"
    }
   ],
   "source": [
    "epochs = np.arange(1, len(train_loss_values)+1, 1)\n",
    "plt.figure()\n",
    "plt.plot(epochs, train_loss_values, label=\"Training\")\n",
    "plt.plot(epochs, validation_loss_values, label=\"Validation\")\n",
    "plt.xlabel(\"Epoch\")\n",
    "plt.ylabel(\"Loss (BCE)\")\n",
    "plt.title(\"Training with Frozen ESM\")\n",
    "plt.legend()\n",
    "plt.tight_layout()\n",
    "plt.savefig(\"Figures/Loss curve (6-8-2)\")"
   ]
  },
  {
   "cell_type": "code",
   "execution_count": 22,
   "id": "d0702f09-e2da-45a8-89eb-281f31fab873",
   "metadata": {},
   "outputs": [
    {
     "name": "stderr",
     "output_type": "stream",
     "text": [
      "\n",
      "00%|█████████████████████████████████████████████████████████████████████████████████| 216/216 [00:25<00:00,  8.34it/s]"
     ]
    },
    {
     "data": {
      "image/png": "[encoded data removed]",
      "text/plain": [
       "<Figure size 600x400 with 1 Axes>"
      ]
     },
     "metadata": {},
     "output_type": "display_data"
    },
    {
     "name": "stdout",
     "output_type": "stream",
     "text": [
      "              precision    recall  f1-score   support\n",
      "\n",
      "           0     0.9720    0.9275    0.9492       524\n",
      "           1     0.8953    0.9587    0.9259       339\n",
      "\n",
      "    accuracy                         0.9397       863\n",
      "   macro avg     0.9337    0.9431    0.9376       863\n",
      "weighted avg     0.9419    0.9397    0.9401       863\n",
      "\n"
     ]
    }
   ],
   "source": [
    "from sklearn.metrics import confusion_matrix, classification_report\n",
    "\n",
    "# Set the model to evaluation mode\n",
    "model.eval()\n",
    "\n",
    "y_true, y_pred = [], []\n",
    "\n",
    "# Collect true labels and predictions\n",
    "with torch.no_grad():\n",
    "    for sequences, attention_masks, targets in tqdm(test_loader):\n",
    "        sequences, attention_masks, targets = sequences.to(device), attention_masks.to(device), targets.to(device)\n",
    "        \n",
    "        # Get model predictions\n",
    "        outputs = model(sequences, attention_mask=attention_masks)\n",
    "\n",
    "        # Convert logits to class labels\n",
    "        predicted = (torch.sigmoid(outputs) > 0.5).long().cpu().numpy().flatten()\n",
    "        y_true.extend(targets.cpu().numpy())\n",
    "        y_pred.extend(predicted)\n",
    "\n",
    "# Convert lists to numpy arrays\n",
    "y_true = np.array(y_true)\n",
    "y_pred = np.array(y_pred)\n",
    "\n",
    "# Generate confusion matrix\n",
    "cm = confusion_matrix(y_true, y_pred)\n",
    "\n",
    "# Calculate percentages\n",
    "cm_percentage = cm.astype('float') / cm.sum(axis=1)[:, np.newaxis] * 100\n",
    "\n",
    "# Combine total amounts and percentages\n",
    "annot = np.empty_like(cm).astype(str)\n",
    "nrows, ncols = cm.shape\n",
    "for i in range(nrows):\n",
    "    for j in range(ncols):\n",
    "        annot[i, j] = f\"{cm[i, j]} ({cm_percentage[i, j]:.1f}%)\"\n",
    "\n",
    "# Plot the heatmap\n",
    "plt.figure(figsize=(6, 4))\n",
    "sns.heatmap(cm, annot=annot, fmt='', cmap='YlGnBu', xticklabels=[\"Pred 0\", \"Pred 1\"], yticklabels=[\"True 0\", \"True 1\"])\n",
    "plt.xlabel(\"Predicted\")\n",
    "plt.ylabel(\"True\")\n",
    "plt.show()\n",
    "\n",
    "# Print classification report\n",
    "print(classification_report(y_true, y_pred))"
   ]
  },
  {
   "cell_type": "code",
   "execution_count": 24,
   "id": "cd2f7894-53e5-4651-b8f9-e9448ce69ebf",
   "metadata": {},
   "outputs": [],
   "source": [
    "# Save checkpoint for later use\n",
    "torch.save(model.state_dict(), f\"trained_checkpoints/mlm6_heads8_layers2.pth\")"
   ]
  },
  {
   "cell_type": "markdown",
   "id": "9810138a-9f0e-4e28-95e0-807c5c576f68",
   "metadata": {},
   "source": [
    "### Training with unfrozen ESM layers\n",
    "Since this model will use the same ESM batch converter, we do not need to reinitialize data"
   ]
  },
  {
   "cell_type": "code",
   "execution_count": 11,
   "id": "7ee49cba-c676-4319-b65b-2605235d4ed0",
   "metadata": {},
   "outputs": [
    {
     "data": {
      "text/plain": [
       "BugBuster(\n",
       "  (ProteinMLM): ESM2(\n",
       "    (embed_tokens): Embedding(33, 320, padding_idx=1)\n",
       "    (layers): ModuleList(\n",
       "      (0-5): 6 x TransformerLayer(\n",
       "        (self_attn): MultiheadAttention(\n",
       "          (k_proj): Linear(in_features=320, out_features=320, bias=True)\n",
       "          (v_proj): Linear(in_features=320, out_features=320, bias=True)\n",
       "          (q_proj): Linear(in_features=320, out_features=320, bias=True)\n",
       "          (out_proj): Linear(in_features=320, out_features=320, bias=True)\n",
       "          (rot_emb): RotaryEmbedding()\n",
       "        )\n",
       "        (self_attn_layer_norm): LayerNorm((320,), eps=1e-05, elementwise_affine=True)\n",
       "        (fc1): Linear(in_features=320, out_features=1280, bias=True)\n",
       "        (fc2): Linear(in_features=1280, out_features=320, bias=True)\n",
       "        (final_layer_norm): LayerNorm((320,), eps=1e-05, elementwise_affine=True)\n",
       "      )\n",
       "    )\n",
       "    (contact_head): ContactPredictionHead(\n",
       "      (regression): Linear(in_features=120, out_features=1, bias=True)\n",
       "      (activation): Sigmoid()\n",
       "    )\n",
       "    (emb_layer_norm_after): LayerNorm((320,), eps=1e-05, elementwise_affine=True)\n",
       "    (lm_head): RobertaLMHead(\n",
       "      (dense): Linear(in_features=320, out_features=320, bias=True)\n",
       "      (layer_norm): LayerNorm((320,), eps=1e-05, elementwise_affine=True)\n",
       "    )\n",
       "  )\n",
       "  (TaskSpecificHead): ClassificationHead(\n",
       "    (attn_layers): ModuleList(\n",
       "      (0-1): 2 x MultiheadAttention(\n",
       "        (out_proj): NonDynamicallyQuantizableLinear(in_features=320, out_features=320, bias=True)\n",
       "      )\n",
       "    )\n",
       "    (dropout): Dropout(p=0.2, inplace=False)\n",
       "    (layer_norm): LayerNorm((320,), eps=1e-05, elementwise_affine=True)\n",
       "    (fc): Linear(in_features=320, out_features=1, bias=True)\n",
       "    (sigmoid): Sigmoid()\n",
       "  )\n",
       ")"
      ]
     },
     "execution_count": 11,
     "metadata": {},
     "output_type": "execute_result"
    }
   ],
   "source": [
    "model = BugBuster(num_mlm_layers=6, num_classes=1, num_heads=8, num_layers=2, dropout=0.2, freeze_mlm = False)\n",
    "model.to(device)"
   ]
  },
  {
   "cell_type": "code",
   "execution_count": 12,
   "id": "2a26c0a9-5f9a-4e69-a61c-c176b4bb3559",
   "metadata": {},
   "outputs": [
    {
     "name": "stderr",
     "output_type": "stream",
     "text": [
      "\n",
      "\n",
      "alidating: 100%|█████████████████████████████████████████████████████████████████████| 216/216 [00:33<00:00,  6.37it/s]"
     ]
    },
    {
     "name": "stdout",
     "output_type": "stream",
     "text": [
      "Epoch 1 | Train Loss: 0.3993 | Validation Loss: 0.3043\n"
     ]
    },
    {
     "name": "stderr",
     "output_type": "stream",
     "text": [
      "\n",
      "\n",
      "alidating: 100%|█████████████████████████████████████████████████████████████████████| 216/216 [00:33<00:00,  6.52it/s]"
     ]
    },
    {
     "name": "stdout",
     "output_type": "stream",
     "text": [
      "Epoch 2 | Train Loss: 0.2850 | Validation Loss: 0.2665\n"
     ]
    },
    {
     "name": "stderr",
     "output_type": "stream",
     "text": [
      "\n",
      "\n",
      "alidating: 100%|█████████████████████████████████████████████████████████████████████| 216/216 [00:33<00:00,  6.38it/s]"
     ]
    },
    {
     "name": "stdout",
     "output_type": "stream",
     "text": [
      "Epoch 3 | Train Loss: 0.2592 | Validation Loss: 0.2566\n"
     ]
    },
    {
     "name": "stderr",
     "output_type": "stream",
     "text": [
      "\n",
      "\n",
      "alidating: 100%|█████████████████████████████████████████████████████████████████████| 216/216 [00:35<00:00,  6.14it/s]"
     ]
    },
    {
     "name": "stdout",
     "output_type": "stream",
     "text": [
      "Epoch 4 | Train Loss: 0.2445 | Validation Loss: 0.2589\n"
     ]
    },
    {
     "name": "stderr",
     "output_type": "stream",
     "text": [
      "\n",
      "\n",
      "alidating: 100%|█████████████████████████████████████████████████████████████████████| 216/216 [00:30<00:00,  6.99it/s]"
     ]
    },
    {
     "name": "stdout",
     "output_type": "stream",
     "text": [
      "Epoch 5 | Train Loss: 0.2313 | Validation Loss: 0.2441\n"
     ]
    },
    {
     "name": "stderr",
     "output_type": "stream",
     "text": [
      "\n",
      "\n",
      "alidating: 100%|█████████████████████████████████████████████████████████████████████| 216/216 [00:32<00:00,  6.59it/s]"
     ]
    },
    {
     "name": "stdout",
     "output_type": "stream",
     "text": [
      "Epoch 6 | Train Loss: 0.2220 | Validation Loss: 0.2365\n"
     ]
    },
    {
     "name": "stderr",
     "output_type": "stream",
     "text": [
      "\n",
      "\n",
      "alidating: 100%|█████████████████████████████████████████████████████████████████████| 216/216 [00:26<00:00,  8.08it/s]"
     ]
    },
    {
     "name": "stdout",
     "output_type": "stream",
     "text": [
      "Epoch 7 | Train Loss: 0.2147 | Validation Loss: 0.2315\n"
     ]
    },
    {
     "name": "stderr",
     "output_type": "stream",
     "text": [
      "\n",
      "\n",
      "alidating: 100%|█████████████████████████████████████████████████████████████████████| 216/216 [00:34<00:00,  6.18it/s]"
     ]
    },
    {
     "name": "stdout",
     "output_type": "stream",
     "text": [
      "Epoch 8 | Train Loss: 0.2065 | Validation Loss: 0.2288\n"
     ]
    },
    {
     "name": "stderr",
     "output_type": "stream",
     "text": [
      "\n",
      "\n",
      "alidating: 100%|█████████████████████████████████████████████████████████████████████| 216/216 [00:34<00:00,  6.28it/s]"
     ]
    },
    {
     "name": "stdout",
     "output_type": "stream",
     "text": [
      "Epoch 9 | Train Loss: 0.1993 | Validation Loss: 0.2290\n"
     ]
    },
    {
     "name": "stderr",
     "output_type": "stream",
     "text": [
      "\n",
      "\n",
      "alidating: 100%|█████████████████████████████████████████████████████████████████████| 216/216 [00:32<00:00,  6.73it/s]"
     ]
    },
    {
     "name": "stdout",
     "output_type": "stream",
     "text": [
      "Epoch 10 | Train Loss: 0.1932 | Validation Loss: 0.2257\n"
     ]
    },
    {
     "name": "stderr",
     "output_type": "stream",
     "text": [
      "\n",
      "\n",
      "alidating: 100%|█████████████████████████████████████████████████████████████████████| 216/216 [00:33<00:00,  6.54it/s]"
     ]
    },
    {
     "name": "stdout",
     "output_type": "stream",
     "text": [
      "Epoch 11 | Train Loss: 0.1863 | Validation Loss: 0.2269\n"
     ]
    },
    {
     "name": "stderr",
     "output_type": "stream",
     "text": [
      "\n",
      "\n",
      "alidating: 100%|█████████████████████████████████████████████████████████████████████| 216/216 [00:29<00:00,  7.23it/s]"
     ]
    },
    {
     "name": "stdout",
     "output_type": "stream",
     "text": [
      "Epoch 12 | Train Loss: 0.1818 | Validation Loss: 0.2197\n"
     ]
    },
    {
     "name": "stderr",
     "output_type": "stream",
     "text": [
      "\n",
      "\n",
      "alidating: 100%|█████████████████████████████████████████████████████████████████████| 216/216 [00:32<00:00,  6.69it/s]"
     ]
    },
    {
     "name": "stdout",
     "output_type": "stream",
     "text": [
      "Epoch 13 | Train Loss: 0.1772 | Validation Loss: 0.2213\n"
     ]
    },
    {
     "name": "stderr",
     "output_type": "stream",
     "text": [
      "\n",
      "\n",
      "alidating: 100%|█████████████████████████████████████████████████████████████████████| 216/216 [00:26<00:00,  8.27it/s]"
     ]
    },
    {
     "name": "stdout",
     "output_type": "stream",
     "text": [
      "Epoch 14 | Train Loss: 0.1726 | Validation Loss: 0.2193\n"
     ]
    },
    {
     "name": "stderr",
     "output_type": "stream",
     "text": [
      "\n",
      "\n",
      "alidating: 100%|█████████████████████████████████████████████████████████████████████| 216/216 [00:26<00:00,  8.27it/s]"
     ]
    },
    {
     "name": "stdout",
     "output_type": "stream",
     "text": [
      "Epoch 15 | Train Loss: 0.1662 | Validation Loss: 0.2344\n"
     ]
    },
    {
     "name": "stderr",
     "output_type": "stream",
     "text": [
      "\n",
      "\n",
      "alidating: 100%|█████████████████████████████████████████████████████████████████████| 216/216 [00:26<00:00,  8.26it/s]"
     ]
    },
    {
     "name": "stdout",
     "output_type": "stream",
     "text": [
      "Epoch 16 | Train Loss: 0.1624 | Validation Loss: 0.2122\n"
     ]
    },
    {
     "name": "stderr",
     "output_type": "stream",
     "text": [
      "\n",
      "\n",
      "alidating: 100%|█████████████████████████████████████████████████████████████████████| 216/216 [00:26<00:00,  8.27it/s]"
     ]
    },
    {
     "name": "stdout",
     "output_type": "stream",
     "text": [
      "Epoch 17 | Train Loss: 0.1576 | Validation Loss: 0.2174\n"
     ]
    },
    {
     "name": "stderr",
     "output_type": "stream",
     "text": [
      "\n",
      "\n",
      "alidating: 100%|█████████████████████████████████████████████████████████████████████| 216/216 [00:26<00:00,  8.28it/s]"
     ]
    },
    {
     "name": "stdout",
     "output_type": "stream",
     "text": [
      "Epoch 18 | Train Loss: 0.1516 | Validation Loss: 0.2200\n"
     ]
    },
    {
     "name": "stderr",
     "output_type": "stream",
     "text": [
      "\n",
      "\n",
      "alidating: 100%|█████████████████████████████████████████████████████████████████████| 216/216 [00:26<00:00,  8.28it/s]"
     ]
    },
    {
     "name": "stdout",
     "output_type": "stream",
     "text": [
      "Epoch 19 | Train Loss: 0.1491 | Validation Loss: 0.2186\n",
      "Early stopping triggered. No improvement in validation loss for 3 epochs.\n"
     ]
    }
   ],
   "source": [
    "train_loss_values, validation_loss_values = train_model(model, train_loader, val_loader, epochs=30, patience=3, device=device)"
   ]
  },
  {
   "cell_type": "code",
   "execution_count": 13,
   "id": "c5e70bfa-e795-4794-a9f7-ecc9bb1bd141",
   "metadata": {},
   "outputs": [
    {
     "data": {
      "image/png": "[encoded data removed]",
      "text/plain": [
       "<Figure size 640x480 with 1 Axes>"
      ]
     },
     "metadata": {},
     "output_type": "display_data"
    }
   ],
   "source": [
    "epochs = np.arange(1, len(train_loss_values)+1, 1)\n",
    "plt.figure()\n",
    "plt.plot(epochs, train_loss_values, label=\"Training\")\n",
    "plt.plot(epochs, validation_loss_values, label=\"Validation\")\n",
    "plt.xlabel(\"Epoch\")\n",
    "plt.ylabel(\"Loss (BCE)\")\n",
    "plt.title(\"Training with Unfrozen ESM\")\n",
    "plt.legend()\n",
    "plt.tight_layout()\n",
    "plt.savefig(\"Figures/Loss curve unfrozen (6-8-2)\")"
   ]
  },
  {
   "cell_type": "code",
   "execution_count": 14,
   "id": "ae5f4044-df07-426e-8b83-a11dbfde5d4c",
   "metadata": {},
   "outputs": [
    {
     "name": "stderr",
     "output_type": "stream",
     "text": [
      "\n",
      "00%|█████████████████████████████████████████████████████████████████████████████████| 216/216 [00:14<00:00, 14.53it/s]"
     ]
    },
    {
     "data": {
      "image/png": "[encoded data removed]",
      "text/plain": [
       "<Figure size 600x400 with 1 Axes>"
      ]
     },
     "metadata": {},
     "output_type": "display_data"
    },
    {
     "name": "stdout",
     "output_type": "stream",
     "text": [
      "              precision    recall  f1-score   support\n",
      "\n",
      "           0     0.9653    0.9542    0.9597       524\n",
      "           1     0.9304    0.9469    0.9386       339\n",
      "\n",
      "    accuracy                         0.9513       863\n",
      "   macro avg     0.9478    0.9506    0.9491       863\n",
      "weighted avg     0.9516    0.9513    0.9514       863\n",
      "\n"
     ]
    }
   ],
   "source": [
    "# Set the model to evaluation mode\n",
    "model.eval()\n",
    "\n",
    "y_true, y_pred = [], []\n",
    "\n",
    "# Collect true labels and predictions\n",
    "with torch.no_grad():\n",
    "    for sequences, attention_masks, targets in tqdm(test_loader):\n",
    "        sequences, attention_masks, targets = sequences.to(device), attention_masks.to(device), targets.to(device)\n",
    "        \n",
    "        # Get model predictions\n",
    "        outputs = model(sequences, attention_mask=attention_masks)\n",
    "\n",
    "        # Convert logits to class labels\n",
    "        predicted = (torch.sigmoid(outputs) > 0.5).long().cpu().numpy().flatten()\n",
    "        y_true.extend(targets.cpu().numpy())\n",
    "        y_pred.extend(predicted)\n",
    "\n",
    "# Convert lists to numpy arrays\n",
    "y_true = np.array(y_true)\n",
    "y_pred = np.array(y_pred)\n",
    "\n",
    "# Generate confusion matrix\n",
    "cm = confusion_matrix(y_true, y_pred)\n",
    "\n",
    "# Calculate percentages\n",
    "cm_percentage = cm.astype('float') / cm.sum(axis=1)[:, np.newaxis] * 100\n",
    "\n",
    "# Combine total amounts and percentages\n",
    "annot = np.empty_like(cm).astype(str)\n",
    "nrows, ncols = cm.shape\n",
    "for i in range(nrows):\n",
    "    for j in range(ncols):\n",
    "        annot[i, j] = f\"{cm[i, j]} ({cm_percentage[i, j]:.1f}%)\"\n",
    "\n",
    "# Plot the heatmap\n",
    "plt.figure(figsize=(6, 4))\n",
    "sns.heatmap(cm, annot=annot, fmt='', cmap='YlGnBu', xticklabels=[\"Pred 0\", \"Pred 1\"], yticklabels=[\"True 0\", \"True 1\"])\n",
    "plt.xlabel(\"Predicted\")\n",
    "plt.ylabel(\"True\")\n",
    "plt.show()\n",
    "\n",
    "# Print classification report\n",
    "print(classification_report(y_true, y_pred))"
   ]
  },
  {
   "cell_type": "code",
   "execution_count": 15,
   "id": "3d1322fc-c00b-497c-8c18-53b0f21b2d8d",
   "metadata": {},
   "outputs": [],
   "source": [
    "# Save checkpoint for later use\n",
    "torch.save(model.state_dict(), f\"trained_checkpoints/unfrozen_mlm6_heads8_layers2.pth\")"
   ]
  },
  {
   "cell_type": "markdown",
   "id": "cb6d9e44-95c6-4ff3-a4b4-1750c13ee5af",
   "metadata": {},
   "source": [
    "### Training with LoRA"
   ]
  },
  {
   "cell_type": "code",
   "execution_count": 9,
   "id": "1357599d-af4e-4fae-a966-b81d8e6be63a",
   "metadata": {},
   "outputs": [
    {
     "data": {
      "text/plain": [
       "BugBuster(\n",
       "  (ProteinMLM): PeftModel(\n",
       "    (base_model): LoraModel(\n",
       "      (model): ESM2(\n",
       "        (embed_tokens): Embedding(33, 320, padding_idx=1)\n",
       "        (layers): ModuleList(\n",
       "          (0-5): 6 x TransformerLayer(\n",
       "            (self_attn): MultiheadAttention(\n",
       "              (k_proj): lora.Linear(\n",
       "                (base_layer): Linear(in_features=320, out_features=320, bias=True)\n",
       "                (lora_dropout): ModuleDict(\n",
       "                  (default): Dropout(p=0.1, inplace=False)\n",
       "                )\n",
       "                (lora_A): ModuleDict(\n",
       "                  (default): Linear(in_features=320, out_features=16, bias=False)\n",
       "                )\n",
       "                (lora_B): ModuleDict(\n",
       "                  (default): Linear(in_features=16, out_features=320, bias=False)\n",
       "                )\n",
       "                (lora_embedding_A): ParameterDict()\n",
       "                (lora_embedding_B): ParameterDict()\n",
       "                (lora_magnitude_vector): ModuleDict()\n",
       "              )\n",
       "              (v_proj): lora.Linear(\n",
       "                (base_layer): Linear(in_features=320, out_features=320, bias=True)\n",
       "                (lora_dropout): ModuleDict(\n",
       "                  (default): Dropout(p=0.1, inplace=False)\n",
       "                )\n",
       "                (lora_A): ModuleDict(\n",
       "                  (default): Linear(in_features=320, out_features=16, bias=False)\n",
       "                )\n",
       "                (lora_B): ModuleDict(\n",
       "                  (default): Linear(in_features=16, out_features=320, bias=False)\n",
       "                )\n",
       "                (lora_embedding_A): ParameterDict()\n",
       "                (lora_embedding_B): ParameterDict()\n",
       "                (lora_magnitude_vector): ModuleDict()\n",
       "              )\n",
       "              (q_proj): lora.Linear(\n",
       "                (base_layer): Linear(in_features=320, out_features=320, bias=True)\n",
       "                (lora_dropout): ModuleDict(\n",
       "                  (default): Dropout(p=0.1, inplace=False)\n",
       "                )\n",
       "                (lora_A): ModuleDict(\n",
       "                  (default): Linear(in_features=320, out_features=16, bias=False)\n",
       "                )\n",
       "                (lora_B): ModuleDict(\n",
       "                  (default): Linear(in_features=16, out_features=320, bias=False)\n",
       "                )\n",
       "                (lora_embedding_A): ParameterDict()\n",
       "                (lora_embedding_B): ParameterDict()\n",
       "                (lora_magnitude_vector): ModuleDict()\n",
       "              )\n",
       "              (out_proj): Linear(in_features=320, out_features=320, bias=True)\n",
       "              (rot_emb): RotaryEmbedding()\n",
       "            )\n",
       "            (self_attn_layer_norm): LayerNorm((320,), eps=1e-05, elementwise_affine=True)\n",
       "            (fc1): Linear(in_features=320, out_features=1280, bias=True)\n",
       "            (fc2): Linear(in_features=1280, out_features=320, bias=True)\n",
       "            (final_layer_norm): LayerNorm((320,), eps=1e-05, elementwise_affine=True)\n",
       "          )\n",
       "        )\n",
       "        (contact_head): ContactPredictionHead(\n",
       "          (regression): Linear(in_features=120, out_features=1, bias=True)\n",
       "          (activation): Sigmoid()\n",
       "        )\n",
       "        (emb_layer_norm_after): LayerNorm((320,), eps=1e-05, elementwise_affine=True)\n",
       "        (lm_head): RobertaLMHead(\n",
       "          (dense): Linear(in_features=320, out_features=320, bias=True)\n",
       "          (layer_norm): LayerNorm((320,), eps=1e-05, elementwise_affine=True)\n",
       "        )\n",
       "      )\n",
       "    )\n",
       "  )\n",
       "  (TaskSpecificHead): ClassificationHead(\n",
       "    (attn_layers): ModuleList(\n",
       "      (0-1): 2 x MultiheadAttention(\n",
       "        (out_proj): NonDynamicallyQuantizableLinear(in_features=320, out_features=320, bias=True)\n",
       "      )\n",
       "    )\n",
       "    (dropout): Dropout(p=0.2, inplace=False)\n",
       "    (layer_norm): LayerNorm((320,), eps=1e-05, elementwise_affine=True)\n",
       "    (fc): Linear(in_features=320, out_features=1, bias=True)\n",
       "    (sigmoid): Sigmoid()\n",
       "  )\n",
       ")"
      ]
     },
     "execution_count": 9,
     "metadata": {},
     "output_type": "execute_result"
    }
   ],
   "source": [
    "model = BugBuster(num_mlm_layers=6, num_classes=1, num_heads=8, num_layers=2, dropout=0.2, freeze_mlm = True, LoRA = True)\n",
    "model.to(device)"
   ]
  },
  {
   "cell_type": "code",
   "execution_count": 10,
   "id": "bbe5d481-7bc9-4da1-88a1-7e23ae06e79a",
   "metadata": {},
   "outputs": [
    {
     "name": "stderr",
     "output_type": "stream",
     "text": [
      "\n",
      "\n",
      "alidating: 100%|█████████████████████████████████████████████████████████████████████| 216/216 [00:24<00:00,  8.87it/s]"
     ]
    },
    {
     "name": "stdout",
     "output_type": "stream",
     "text": [
      "Epoch 1 | Train Loss: 0.4088 | Validation Loss: 0.3044\n"
     ]
    },
    {
     "name": "stderr",
     "output_type": "stream",
     "text": [
      "\n",
      "\n",
      "alidating: 100%|█████████████████████████████████████████████████████████████████████| 216/216 [00:24<00:00,  8.85it/s]"
     ]
    },
    {
     "name": "stdout",
     "output_type": "stream",
     "text": [
      "Epoch 2 | Train Loss: 0.2879 | Validation Loss: 0.2740\n"
     ]
    },
    {
     "name": "stderr",
     "output_type": "stream",
     "text": [
      "\n",
      "\n",
      "alidating: 100%|█████████████████████████████████████████████████████████████████████| 216/216 [00:24<00:00,  8.87it/s]"
     ]
    },
    {
     "name": "stdout",
     "output_type": "stream",
     "text": [
      "Epoch 3 | Train Loss: 0.2619 | Validation Loss: 0.2633\n"
     ]
    },
    {
     "name": "stderr",
     "output_type": "stream",
     "text": [
      "\n",
      "\n",
      "alidating: 100%|█████████████████████████████████████████████████████████████████████| 216/216 [00:24<00:00,  8.85it/s]"
     ]
    },
    {
     "name": "stdout",
     "output_type": "stream",
     "text": [
      "Epoch 4 | Train Loss: 0.2459 | Validation Loss: 0.2528\n"
     ]
    },
    {
     "name": "stderr",
     "output_type": "stream",
     "text": [
      "\n",
      "\n",
      "alidating: 100%|█████████████████████████████████████████████████████████████████████| 216/216 [00:24<00:00,  8.90it/s]"
     ]
    },
    {
     "name": "stdout",
     "output_type": "stream",
     "text": [
      "Epoch 5 | Train Loss: 0.2330 | Validation Loss: 0.2469\n"
     ]
    },
    {
     "name": "stderr",
     "output_type": "stream",
     "text": [
      "\n",
      "\n",
      "alidating: 100%|█████████████████████████████████████████████████████████████████████| 216/216 [00:24<00:00,  8.88it/s]"
     ]
    },
    {
     "name": "stdout",
     "output_type": "stream",
     "text": [
      "Epoch 6 | Train Loss: 0.2223 | Validation Loss: 0.2425\n"
     ]
    },
    {
     "name": "stderr",
     "output_type": "stream",
     "text": [
      "\n",
      "\n",
      "alidating: 100%|█████████████████████████████████████████████████████████████████████| 216/216 [00:24<00:00,  8.90it/s]"
     ]
    },
    {
     "name": "stdout",
     "output_type": "stream",
     "text": [
      "Epoch 7 | Train Loss: 0.2139 | Validation Loss: 0.2368\n"
     ]
    },
    {
     "name": "stderr",
     "output_type": "stream",
     "text": [
      "\n",
      "\n",
      "alidating: 100%|█████████████████████████████████████████████████████████████████████| 216/216 [00:24<00:00,  8.98it/s]"
     ]
    },
    {
     "name": "stdout",
     "output_type": "stream",
     "text": [
      "Epoch 8 | Train Loss: 0.2077 | Validation Loss: 0.2357\n"
     ]
    },
    {
     "name": "stderr",
     "output_type": "stream",
     "text": [
      "\n",
      "\n",
      "alidating: 100%|█████████████████████████████████████████████████████████████████████| 216/216 [00:23<00:00,  9.02it/s]"
     ]
    },
    {
     "name": "stdout",
     "output_type": "stream",
     "text": [
      "Epoch 9 | Train Loss: 0.2022 | Validation Loss: 0.2293\n"
     ]
    },
    {
     "name": "stderr",
     "output_type": "stream",
     "text": [
      "\n",
      "\n",
      "alidating: 100%|█████████████████████████████████████████████████████████████████████| 216/216 [00:23<00:00,  9.03it/s]"
     ]
    },
    {
     "name": "stdout",
     "output_type": "stream",
     "text": [
      "Epoch 10 | Train Loss: 0.1954 | Validation Loss: 0.2289\n"
     ]
    },
    {
     "name": "stderr",
     "output_type": "stream",
     "text": [
      "\n",
      "\n",
      "alidating: 100%|█████████████████████████████████████████████████████████████████████| 216/216 [00:23<00:00,  9.01it/s]"
     ]
    },
    {
     "name": "stdout",
     "output_type": "stream",
     "text": [
      "Epoch 11 | Train Loss: 0.1921 | Validation Loss: 0.2272\n"
     ]
    },
    {
     "name": "stderr",
     "output_type": "stream",
     "text": [
      "\n",
      "\n",
      "alidating: 100%|█████████████████████████████████████████████████████████████████████| 216/216 [00:23<00:00,  9.03it/s]"
     ]
    },
    {
     "name": "stdout",
     "output_type": "stream",
     "text": [
      "Epoch 12 | Train Loss: 0.1862 | Validation Loss: 0.2209\n"
     ]
    },
    {
     "name": "stderr",
     "output_type": "stream",
     "text": [
      "\n",
      "\n",
      "alidating: 100%|█████████████████████████████████████████████████████████████████████| 216/216 [00:24<00:00,  8.88it/s]"
     ]
    },
    {
     "name": "stdout",
     "output_type": "stream",
     "text": [
      "Epoch 13 | Train Loss: 0.1828 | Validation Loss: 0.2246\n"
     ]
    },
    {
     "name": "stderr",
     "output_type": "stream",
     "text": [
      "\n",
      "\n",
      "alidating: 100%|█████████████████████████████████████████████████████████████████████| 216/216 [00:25<00:00,  8.54it/s]"
     ]
    },
    {
     "name": "stdout",
     "output_type": "stream",
     "text": [
      "Epoch 14 | Train Loss: 0.1782 | Validation Loss: 0.2310\n"
     ]
    },
    {
     "name": "stderr",
     "output_type": "stream",
     "text": [
      "\n",
      "\n",
      "alidating: 100%|█████████████████████████████████████████████████████████████████████| 216/216 [00:24<00:00,  8.89it/s]"
     ]
    },
    {
     "name": "stdout",
     "output_type": "stream",
     "text": [
      "Epoch 15 | Train Loss: 0.1730 | Validation Loss: 0.2201\n"
     ]
    },
    {
     "name": "stderr",
     "output_type": "stream",
     "text": [
      "\n",
      "\n",
      "alidating: 100%|█████████████████████████████████████████████████████████████████████| 216/216 [00:23<00:00,  9.00it/s]"
     ]
    },
    {
     "name": "stdout",
     "output_type": "stream",
     "text": [
      "Epoch 16 | Train Loss: 0.1689 | Validation Loss: 0.2373\n"
     ]
    },
    {
     "name": "stderr",
     "output_type": "stream",
     "text": [
      "\n",
      "\n",
      "alidating: 100%|█████████████████████████████████████████████████████████████████████| 216/216 [00:23<00:00,  9.01it/s]"
     ]
    },
    {
     "name": "stdout",
     "output_type": "stream",
     "text": [
      "Epoch 17 | Train Loss: 0.1672 | Validation Loss: 0.2244\n"
     ]
    },
    {
     "name": "stderr",
     "output_type": "stream",
     "text": [
      "\n",
      "\n",
      "alidating: 100%|█████████████████████████████████████████████████████████████████████| 216/216 [00:24<00:00,  8.84it/s]"
     ]
    },
    {
     "name": "stdout",
     "output_type": "stream",
     "text": [
      "Epoch 18 | Train Loss: 0.1615 | Validation Loss: 0.2195\n"
     ]
    },
    {
     "name": "stderr",
     "output_type": "stream",
     "text": [
      "\n",
      "\n",
      "alidating: 100%|█████████████████████████████████████████████████████████████████████| 216/216 [00:24<00:00,  8.91it/s]"
     ]
    },
    {
     "name": "stdout",
     "output_type": "stream",
     "text": [
      "Epoch 19 | Train Loss: 0.1582 | Validation Loss: 0.2218\n"
     ]
    },
    {
     "name": "stderr",
     "output_type": "stream",
     "text": [
      "\n",
      "\n",
      "alidating: 100%|█████████████████████████████████████████████████████████████████████| 216/216 [00:24<00:00,  8.92it/s]"
     ]
    },
    {
     "name": "stdout",
     "output_type": "stream",
     "text": [
      "Epoch 20 | Train Loss: 0.1550 | Validation Loss: 0.2214\n"
     ]
    },
    {
     "name": "stderr",
     "output_type": "stream",
     "text": [
      "\n",
      "\n",
      "alidating: 100%|█████████████████████████████████████████████████████████████████████| 216/216 [00:24<00:00,  8.91it/s]"
     ]
    },
    {
     "name": "stdout",
     "output_type": "stream",
     "text": [
      "Epoch 21 | Train Loss: 0.1508 | Validation Loss: 0.2266\n",
      "Early stopping triggered. No improvement in validation loss for 3 epochs.\n"
     ]
    }
   ],
   "source": [
    "train_loss_values, validation_loss_values = train_model(model, train_loader, val_loader, epochs=30, patience=3, device=device)"
   ]
  },
  {
   "cell_type": "code",
   "execution_count": 11,
   "id": "c1258b13-855a-49ee-b0de-9a76442d7bd2",
   "metadata": {},
   "outputs": [],
   "source": [
    "# Merge LoRA layers with model to create final checkpoint\n",
    "model.ProteinMLM = model.ProteinMLM.merge_and_unload()"
   ]
  },
  {
   "cell_type": "code",
   "execution_count": 12,
   "id": "0dfcfa88-98d4-4dd8-8b2f-3eb75b13dc1a",
   "metadata": {},
   "outputs": [
    {
     "data": {
      "image/png": "[encoded data removed]",
      "text/plain": [
       "<Figure size 640x480 with 1 Axes>"
      ]
     },
     "metadata": {},
     "output_type": "display_data"
    }
   ],
   "source": [
    "epochs = np.arange(1, len(train_loss_values)+1, 1)\n",
    "plt.figure()\n",
    "plt.plot(epochs, train_loss_values, label=\"Training\")\n",
    "plt.plot(epochs, validation_loss_values, label=\"Validation\")\n",
    "plt.xlabel(\"Epoch\")\n",
    "plt.ylabel(\"Loss (BCE)\")\n",
    "plt.title(\"Training with LoRA\")\n",
    "plt.legend()\n",
    "plt.tight_layout()\n",
    "plt.savefig(\"Figures/Loss curve LoRA (6-8-2)\")"
   ]
  },
  {
   "cell_type": "code",
   "execution_count": 13,
   "id": "1c294938-b752-4eb7-9eef-d906a5c88dac",
   "metadata": {},
   "outputs": [
    {
     "name": "stderr",
     "output_type": "stream",
     "text": [
      "\n",
      "00%|█████████████████████████████████████████████████████████████████████████████████| 216/216 [00:18<00:00, 11.87it/s]"
     ]
    },
    {
     "data": {
      "image/png": "[encoded data removed]",
      "text/plain": [
       "<Figure size 600x400 with 1 Axes>"
      ]
     },
     "metadata": {},
     "output_type": "display_data"
    },
    {
     "name": "stdout",
     "output_type": "stream",
     "text": [
      "              precision    recall  f1-score   support\n",
      "\n",
      "           0     0.9681    0.9275    0.9474       524\n",
      "           1     0.8947    0.9528    0.9229       339\n",
      "\n",
      "    accuracy                         0.9374       863\n",
      "   macro avg     0.9314    0.9401    0.9351       863\n",
      "weighted avg     0.9393    0.9374    0.9377       863\n",
      "\n"
     ]
    }
   ],
   "source": [
    "# Set the model to evaluation mode\n",
    "model.eval()\n",
    "\n",
    "y_true, y_pred = [], []\n",
    "\n",
    "# Collect true labels and predictions\n",
    "with torch.no_grad():\n",
    "    for sequences, attention_masks, targets in tqdm(test_loader):\n",
    "        sequences, attention_masks, targets = sequences.to(device), attention_masks.to(device), targets.to(device)\n",
    "        \n",
    "        # Get model predictions\n",
    "        outputs = model(sequences, attention_mask=attention_masks)\n",
    "\n",
    "        # Convert logits to class labels\n",
    "        predicted = (torch.sigmoid(outputs) > 0.5).long().cpu().numpy().flatten()\n",
    "        y_true.extend(targets.cpu().numpy())\n",
    "        y_pred.extend(predicted)\n",
    "\n",
    "# Convert lists to numpy arrays\n",
    "y_true = np.array(y_true)\n",
    "y_pred = np.array(y_pred)\n",
    "\n",
    "# Generate confusion matrix\n",
    "cm = confusion_matrix(y_true, y_pred)\n",
    "\n",
    "# Calculate percentages\n",
    "cm_percentage = cm.astype('float') / cm.sum(axis=1)[:, np.newaxis] * 100\n",
    "\n",
    "# Combine total amounts and percentages\n",
    "annot = np.empty_like(cm).astype(str)\n",
    "nrows, ncols = cm.shape\n",
    "for i in range(nrows):\n",
    "    for j in range(ncols):\n",
    "        annot[i, j] = f\"{cm[i, j]} ({cm_percentage[i, j]:.1f}%)\"\n",
    "\n",
    "# Plot the heatmap\n",
    "plt.figure(figsize=(6, 4))\n",
    "sns.heatmap(cm, annot=annot, fmt='', cmap='YlGnBu', xticklabels=[\"Pred 0\", \"Pred 1\"], yticklabels=[\"True 0\", \"True 1\"])\n",
    "plt.xlabel(\"Predicted\")\n",
    "plt.ylabel(\"True\")\n",
    "plt.show()\n",
    "\n",
    "# Print classification report\n",
    "print(classification_report(y_true, y_pred))"
   ]
  },
  {
   "cell_type": "code",
   "execution_count": 14,
   "id": "98b21dfd-691e-462c-8931-cd08142284c3",
   "metadata": {},
   "outputs": [],
   "source": [
    "# Save checkpoint for later use\n",
    "torch.save(model.state_dict(), f\"trained_checkpoints/LoRA_mlm6_heads8_layers2.pth\")"
   ]
  }
 ],
 "metadata": {
  "kernelspec": {
   "display_name": "Python 3 (ipykernel)",
   "language": "python",
   "name": "python3"
  },
  "language_info": {
   "codemirror_mode": {
    "name": "ipython",
    "version": 3
   },
   "file_extension": ".py",
   "mimetype": "text/x-python",
   "name": "python",
   "nbconvert_exporter": "python",
   "pygments_lexer": "ipython3",
   "version": "3.10.13"
  }
 },
 "nbformat": 4,
 "nbformat_minor": 5
}
