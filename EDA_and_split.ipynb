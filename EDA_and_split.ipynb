{
 "cells": [
  {
   "cell_type": "code",
   "execution_count": 20,
   "id": "a7004e64-d00a-415b-bf25-1de07ed8507e",
   "metadata": {},
   "outputs": [],
   "source": [
    "import numpy as np\n",
    "import pandas as pd\n",
    "from matplotlib import pyplot as plt\n",
    "from sklearn.model_selection import train_test_split"
   ]
  },
  {
   "cell_type": "code",
   "execution_count": 23,
   "id": "fb7bd104-c263-45de-ba08-625e9fbe924b",
   "metadata": {},
   "outputs": [
    {
     "name": "stdout",
     "output_type": "stream",
     "text": [
      "P1 enriched peptides:  198\n",
      "P1 high confidence peptides:  43548\n",
      "29909\n",
      "5498\n"
     ]
    },
    {
     "data": {
      "text/html": [
       "<div>\n",
       "<style scoped>\n",
       "    .dataframe tbody tr th:only-of-type {\n",
       "        vertical-align: middle;\n",
       "    }\n",
       "\n",
       "    .dataframe tbody tr th {\n",
       "        vertical-align: top;\n",
       "    }\n",
       "\n",
       "    .dataframe thead th {\n",
       "        text-align: right;\n",
       "    }\n",
       "</style>\n",
       "<table border=\"1\" class=\"dataframe\">\n",
       "  <thead>\n",
       "    <tr style=\"text-align: right;\">\n",
       "      <th></th>\n",
       "      <th>id</th>\n",
       "      <th>sequence</th>\n",
       "      <th>enrichment</th>\n",
       "      <th>coef_of_var</th>\n",
       "      <th>binds</th>\n",
       "    </tr>\n",
       "  </thead>\n",
       "  <tbody>\n",
       "    <tr>\n",
       "      <th>0</th>\n",
       "      <td>1</td>\n",
       "      <td>MRSLLFVVGAWVAALVTNLTPDAALASGTTTTAAAGNTSATASPGD...</td>\n",
       "      <td>0.000000</td>\n",
       "      <td>0.000000</td>\n",
       "      <td>0</td>\n",
       "    </tr>\n",
       "    <tr>\n",
       "      <th>1</th>\n",
       "      <td>2</td>\n",
       "      <td>TTTTAAAGNTSATASPGDNATSIDAGSTITAAAPPGHSTPWPALPT...</td>\n",
       "      <td>0.905954</td>\n",
       "      <td>4.690751</td>\n",
       "      <td>1</td>\n",
       "    </tr>\n",
       "    <tr>\n",
       "      <th>2</th>\n",
       "      <td>3</td>\n",
       "      <td>ITAAAPPGHSTPWPALPTDLALPLVIGGLCALTLAAMGAGALLHRC...</td>\n",
       "      <td>0.000000</td>\n",
       "      <td>0.000000</td>\n",
       "      <td>0</td>\n",
       "    </tr>\n",
       "    <tr>\n",
       "      <th>3</th>\n",
       "      <td>4</td>\n",
       "      <td>LCALTLAAMGAGALLHRCCRRCARRRQNVSSVSA</td>\n",
       "      <td>0.000000</td>\n",
       "      <td>0.000000</td>\n",
       "      <td>0</td>\n",
       "    </tr>\n",
       "    <tr>\n",
       "      <th>5</th>\n",
       "      <td>6</td>\n",
       "      <td>MGFGAAAALLALAVALARVPAGGGAYVPVDRALTRVSPNRFRGSSL...</td>\n",
       "      <td>0.000000</td>\n",
       "      <td>0.000000</td>\n",
       "      <td>0</td>\n",
       "    </tr>\n",
       "  </tbody>\n",
       "</table>\n",
       "</div>"
      ],
      "text/plain": [
       "   id                                           sequence  enrichment  \\\n",
       "0   1  MRSLLFVVGAWVAALVTNLTPDAALASGTTTTAAAGNTSATASPGD...    0.000000   \n",
       "1   2  TTTTAAAGNTSATASPGDNATSIDAGSTITAAAPPGHSTPWPALPT...    0.905954   \n",
       "2   3  ITAAAPPGHSTPWPALPTDLALPLVIGGLCALTLAAMGAGALLHRC...    0.000000   \n",
       "3   4                 LCALTLAAMGAGALLHRCCRRCARRRQNVSSVSA    0.000000   \n",
       "5   6  MGFGAAAALLALAVALARVPAGGGAYVPVDRALTRVSPNRFRGSSL...    0.000000   \n",
       "\n",
       "   coef_of_var  binds  \n",
       "0     0.000000      0  \n",
       "1     4.690751      1  \n",
       "2     0.000000      0  \n",
       "3     0.000000      0  \n",
       "5     0.000000      0  "
      ]
     },
     "execution_count": 23,
     "metadata": {},
     "output_type": "execute_result"
    }
   ],
   "source": [
    "# Load raw data\n",
    "enrichments = pd.read_csv(\"Testing_Data/101724_all_combined_counts_post_processing.csv\")\n",
    "samples_info = pd.read_csv(\"Testing_Data/VIR3_clean.csv\", usecols = [\"id\", \"peptide\"])\n",
    "print(\"P1 enriched peptides: \", sum(enrichments[\"r3_P1enriched\"]))\n",
    "print(\"P1 high confidence peptides: \", (enrichments['r3_P1CV'] < 30).sum())\n",
    "\n",
    "\n",
    "# Parsing important data\n",
    "data = pd.DataFrame()\n",
    "data[\"id\"] = enrichments[\"id\"]\n",
    "data[\"sequence\"] = samples_info[\"peptide\"]\n",
    "data[\"enrichment\"] = enrichments[\"r3_P1\"]\n",
    "data[\"coef_of_var\"] = enrichments[\"r3_P1CV\"]\n",
    "\n",
    "# Filter out low confidence peptides\n",
    "data = data[data[\"coef_of_var\"] < 30]\n",
    "print(sum(data[\"enrichment\"] == 0))\n",
    "\n",
    "print(sum(data[\"enrichment\"] >= 1))\n",
    "\n",
    "data['binds'] = (data['enrichment'] > 0).astype(int)\n",
    "\n",
    "\n",
    "data.head()"
   ]
  },
  {
   "cell_type": "code",
   "execution_count": null,
   "id": "14d7e46e-735a-44e3-aefb-bbdced8caf3f",
   "metadata": {},
   "outputs": [],
   "source": [
    "# Initialize percentiles and counts array\n",
    "percentiles = np.arange(0, 1, 0.005)\n",
    "counts = []\n",
    "\n",
    "for percentile in percentiles:\n",
    "    counts.append(data['count'].quantile(percentile))\n",
    "\n",
    "percentile_80th = data['count'].quantile(0.85)\n",
    "print(f\"80th percentile cutoff: {percentile_80th}\")\n",
    "plt.plot(percentiles, counts)\n",
    "plt.xlabel(\"Percentile\")\n",
    "plt.ylabel(\"Count\")\n",
    "plt.show()\n",
    "\n",
    "plt.hist(counts, bins=350)\n",
    "plt.show()\n"
   ]
  },
  {
   "cell_type": "code",
   "execution_count": 30,
   "id": "531e4281-73a7-4f12-8713-4603b71158b2",
   "metadata": {},
   "outputs": [
    {
     "data": {
      "text/html": [
       "<div>\n",
       "<style scoped>\n",
       "    .dataframe tbody tr th:only-of-type {\n",
       "        vertical-align: middle;\n",
       "    }\n",
       "\n",
       "    .dataframe tbody tr th {\n",
       "        vertical-align: top;\n",
       "    }\n",
       "\n",
       "    .dataframe thead th {\n",
       "        text-align: right;\n",
       "    }\n",
       "</style>\n",
       "<table border=\"1\" class=\"dataframe\">\n",
       "  <thead>\n",
       "    <tr style=\"text-align: right;\">\n",
       "      <th></th>\n",
       "      <th>id</th>\n",
       "      <th>sequence</th>\n",
       "      <th>count</th>\n",
       "      <th>binds</th>\n",
       "    </tr>\n",
       "  </thead>\n",
       "  <tbody>\n",
       "    <tr>\n",
       "      <th>0</th>\n",
       "      <td>1</td>\n",
       "      <td>MRSLLFVVGAWVAALVTNLTPDAALASGTTTTAAAGNTSATASPGD...</td>\n",
       "      <td>0</td>\n",
       "      <td>0</td>\n",
       "    </tr>\n",
       "    <tr>\n",
       "      <th>1</th>\n",
       "      <td>2</td>\n",
       "      <td>TTTTAAAGNTSATASPGDNATSIDAGSTITAAAPPGHSTPWPALPT...</td>\n",
       "      <td>98</td>\n",
       "      <td>1</td>\n",
       "    </tr>\n",
       "    <tr>\n",
       "      <th>2</th>\n",
       "      <td>3</td>\n",
       "      <td>ITAAAPPGHSTPWPALPTDLALPLVIGGLCALTLAAMGAGALLHRC...</td>\n",
       "      <td>0</td>\n",
       "      <td>0</td>\n",
       "    </tr>\n",
       "    <tr>\n",
       "      <th>3</th>\n",
       "      <td>4</td>\n",
       "      <td>LCALTLAAMGAGALLHRCCRRCARRRQNVSSVSA</td>\n",
       "      <td>0</td>\n",
       "      <td>0</td>\n",
       "    </tr>\n",
       "    <tr>\n",
       "      <th>4</th>\n",
       "      <td>5</td>\n",
       "      <td>RDRGPSRSRVRYTRLAASEA</td>\n",
       "      <td>338</td>\n",
       "      <td>1</td>\n",
       "    </tr>\n",
       "  </tbody>\n",
       "</table>\n",
       "</div>"
      ],
      "text/plain": [
       "   id                                           sequence  count  binds\n",
       "0   1  MRSLLFVVGAWVAALVTNLTPDAALASGTTTTAAAGNTSATASPGD...      0      0\n",
       "1   2  TTTTAAAGNTSATASPGDNATSIDAGSTITAAAPPGHSTPWPALPT...     98      1\n",
       "2   3  ITAAAPPGHSTPWPALPTDLALPLVIGGLCALTLAAMGAGALLHRC...      0      0\n",
       "3   4                 LCALTLAAMGAGALLHRCCRRCARRRQNVSSVSA      0      0\n",
       "4   5                               RDRGPSRSRVRYTRLAASEA    338      1"
      ]
     },
     "execution_count": 30,
     "metadata": {},
     "output_type": "execute_result"
    }
   ],
   "source": [
    "data['binds'] = np.where(data['count'] > 0, 1, 0)\n",
    "data.head()"
   ]
  },
  {
   "cell_type": "code",
   "execution_count": 31,
   "id": "01fbfe4b-30dc-48a9-80cf-7cf0bfcbf336",
   "metadata": {},
   "outputs": [
    {
     "name": "stdout",
     "output_type": "stream",
     "text": [
      "Data points before trimming:  115753\n",
      "Data points after trimming:  98475\n",
      "36999 samples do not bind and 61476 samples do bind\n"
     ]
    }
   ],
   "source": [
    "print(\"Data points before trimming: \", len(data))\n",
    "# Remove samples with more than 100 count\n",
    "data = data[data['count'] <= 60]\n",
    "print(\"Data points after trimming: \", len(data))\n",
    "zero_count = sum(data['binds'])\n",
    "print(zero_count, \"samples do not bind and\", len(data)-zero_count, \"samples do bind\")"
   ]
  },
  {
   "cell_type": "code",
   "execution_count": 19,
   "id": "207dee04-dc63-4c13-b7e9-cfb944c7d917",
   "metadata": {},
   "outputs": [],
   "source": [
    "# Splitting into train, val, and test sets\n",
    "train_df, temp_df = train_test_split(data, test_size=0.3, random_state=42)\n",
    "val_df, test_df = train_test_split(temp_df, test_size=0.5, random_state=42)\n",
    "\n",
    "# Reset indices\n",
    "train_df = train_df.reset_index(drop=True)\n",
    "val_df = val_df.reset_index(drop=True)\n",
    "test_df = test_df.reset_index(drop=True)\n",
    "\n",
    "# Save datasets\n",
    "train_df.to_csv('Testing_Data/VS_train_data.csv', index=False)\n",
    "val_df.to_csv('Testing_Data/VS_val_data.csv', index=False)\n",
    "test_df.to_csv('Testing_Data/VS_test_data.csv', index=False)"
   ]
  }
 ],
 "metadata": {
  "kernelspec": {
   "display_name": "Python 3 (ipykernel)",
   "language": "python",
   "name": "python3"
  },
  "language_info": {
   "codemirror_mode": {
    "name": "ipython",
    "version": 3
   },
   "file_extension": ".py",
   "mimetype": "text/x-python",
   "name": "python",
   "nbconvert_exporter": "python",
   "pygments_lexer": "ipython3",
   "version": "3.10.13"
  }
 },
 "nbformat": 4,
 "nbformat_minor": 5
}
